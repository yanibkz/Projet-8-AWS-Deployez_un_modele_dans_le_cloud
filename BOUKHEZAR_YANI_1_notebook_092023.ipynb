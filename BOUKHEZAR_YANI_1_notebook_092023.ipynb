{
 "cells": [
  {
   "cell_type": "code",
   "execution_count": 1,
   "id": "3c9fb13d",
   "metadata": {},
   "outputs": [
    {
     "name": "stdout",
     "output_type": "stream",
     "text": [
      "Starting Spark application\n"
     ]
    },
    {
     "data": {
      "text/html": [
       "<table>\n",
       "<tr><th>ID</th><th>YARN Application ID</th><th>Kind</th><th>State</th><th>Spark UI</th><th>Driver log</th><th>User</th><th>Current session?</th></tr><tr><td>0</td><td>application_1697504556601_0001</td><td>pyspark</td><td>idle</td><td><a target=\"_blank\" href=\"http://ip-172-31-18-224.eu-west-1.compute.internal:20888/proxy/application_1697504556601_0001/\">Link</a></td><td><a target=\"_blank\" href=\"http://ip-172-31-26-46.eu-west-1.compute.internal:8042/node/containerlogs/container_1697504556601_0001_01_000001/livy\">Link</a></td><td>None</td><td>✔</td></tr></table>"
      ],
      "text/plain": [
       "<IPython.core.display.HTML object>"
      ]
     },
     "metadata": {},
     "output_type": "display_data"
    },
    {
     "data": {
      "application/vnd.jupyter.widget-view+json": {
       "model_id": "",
       "version_major": 2,
       "version_minor": 0
      },
      "text/plain": [
       "FloatProgress(value=0.0, bar_style='info', description='Progress:', layout=Layout(height='25px', width='50%'),…"
      ]
     },
     "metadata": {},
     "output_type": "display_data"
    },
    {
     "name": "stdout",
     "output_type": "stream",
     "text": [
      "SparkSession available as 'spark'.\n"
     ]
    },
    {
     "data": {
      "application/vnd.jupyter.widget-view+json": {
       "model_id": "",
       "version_major": 2,
       "version_minor": 0
      },
      "text/plain": [
       "FloatProgress(value=0.0, bar_style='info', description='Progress:', layout=Layout(height='25px', width='50%'),…"
      ]
     },
     "metadata": {},
     "output_type": "display_data"
    }
   ],
   "source": [
    "# L'exécution de cette cellule démarre l'application Spark"
   ]
  },
  {
   "cell_type": "code",
   "execution_count": 2,
   "id": "c57800f6",
   "metadata": {},
   "outputs": [
    {
     "data": {
      "text/html": [
       "Current session configs: <tt>{'driverMemory': '1000M', 'executorCores': 2, 'proxyUser': 'jovyan', 'kind': 'pyspark'}</tt><br>"
      ],
      "text/plain": [
       "<IPython.core.display.HTML object>"
      ]
     },
     "metadata": {},
     "output_type": "display_data"
    },
    {
     "data": {
      "text/html": [
       "<table>\n",
       "<tr><th>ID</th><th>YARN Application ID</th><th>Kind</th><th>State</th><th>Spark UI</th><th>Driver log</th><th>User</th><th>Current session?</th></tr><tr><td>0</td><td>application_1697504556601_0001</td><td>pyspark</td><td>idle</td><td><a target=\"_blank\" href=\"http://ip-172-31-18-224.eu-west-1.compute.internal:20888/proxy/application_1697504556601_0001/\">Link</a></td><td><a target=\"_blank\" href=\"http://ip-172-31-26-46.eu-west-1.compute.internal:8042/node/containerlogs/container_1697504556601_0001_01_000001/livy\">Link</a></td><td>None</td><td>✔</td></tr></table>"
      ],
      "text/plain": [
       "<IPython.core.display.HTML object>"
      ]
     },
     "metadata": {},
     "output_type": "display_data"
    }
   ],
   "source": [
    "%%info"
   ]
  },
  {
   "cell_type": "code",
   "execution_count": 3,
   "id": "96b2e523",
   "metadata": {},
   "outputs": [
    {
     "data": {
      "application/vnd.jupyter.widget-view+json": {
       "model_id": "",
       "version_major": 2,
       "version_minor": 0
      },
      "text/plain": [
       "FloatProgress(value=0.0, bar_style='info', description='Progress:', layout=Layout(height='25px', width='50%'),…"
      ]
     },
     "metadata": {},
     "output_type": "display_data"
    }
   ],
   "source": [
    "import pandas as pd\n",
    "import numpy as np\n",
    "import io\n",
    "import os\n",
    "import tensorflow as tf\n",
    "from PIL import Image\n",
    "from tensorflow.keras.applications.mobilenet_v2 import MobileNetV2, preprocess_input\n",
    "from tensorflow.keras.preprocessing.image import img_to_array\n",
    "from tensorflow.keras import Model\n",
    "from pyspark.sql.functions import col, pandas_udf, PandasUDFType, element_at, split\n",
    "from pyspark.sql.functions import udf\n",
    "from pyspark.ml.linalg import Vectors, VectorUDT\n",
    "from pyspark.ml.feature import PCA\n",
    "from pyspark.ml.linalg import Vectors\n",
    "from pyspark.ml.feature import PCA\n",
    "import matplotlib.pyplot as plt"
   ]
  },
  {
   "cell_type": "code",
   "execution_count": 7,
   "id": "7e8974cc",
   "metadata": {},
   "outputs": [
    {
     "data": {
      "application/vnd.jupyter.widget-view+json": {
       "model_id": "",
       "version_major": 2,
       "version_minor": 0
      },
      "text/plain": [
       "FloatProgress(value=0.0, bar_style='info', description='Progress:', layout=Layout(height='25px', width='50%'),…"
      ]
     },
     "metadata": {},
     "output_type": "display_data"
    },
    {
     "name": "stdout",
     "output_type": "stream",
     "text": [
      "PATH:        s3://yb-p8-data\n",
      "PATH_Data:   s3://yb-p8-data/Test1\n",
      "PATH_Result: s3://yb-p8-data/Results\n",
      "PATH_PCA: s3://yb-p8-data/PCA"
     ]
    }
   ],
   "source": [
    "PATH = 's3://yb-p8-data'\n",
    "PATH_Data = PATH+'/Test1'\n",
    "PATH_Result = PATH+'/Results'\n",
    "PATH_PCA = PATH+'/PCA'\n",
    "\n",
    "print('PATH:        '+\\\n",
    "      PATH+'\\nPATH_Data:   '+\\\n",
    "      PATH_Data+'\\nPATH_Result: '+PATH_Result+'\\nPATH_PCA: '+PATH_PCA)"
   ]
  },
  {
   "cell_type": "code",
   "execution_count": 8,
   "id": "a4b7c5ac",
   "metadata": {},
   "outputs": [
    {
     "data": {
      "application/vnd.jupyter.widget-view+json": {
       "model_id": "",
       "version_major": 2,
       "version_minor": 0
      },
      "text/plain": [
       "FloatProgress(value=0.0, bar_style='info', description='Progress:', layout=Layout(height='25px', width='50%'),…"
      ]
     },
     "metadata": {},
     "output_type": "display_data"
    }
   ],
   "source": [
    "images_sample = spark.read.format(\"binaryFile\") \\\n",
    "  .option(\"pathGlobFilter\", \"*.jpg\") \\\n",
    "  .option(\"recursiveFileLookup\", \"true\") \\\n",
    "  .load(PATH_Data)"
   ]
  },
  {
   "cell_type": "code",
   "execution_count": 9,
   "id": "ed585610",
   "metadata": {},
   "outputs": [
    {
     "data": {
      "application/vnd.jupyter.widget-view+json": {
       "model_id": "",
       "version_major": 2,
       "version_minor": 0
      },
      "text/plain": [
       "FloatProgress(value=0.0, bar_style='info', description='Progress:', layout=Layout(height='25px', width='50%'),…"
      ]
     },
     "metadata": {},
     "output_type": "display_data"
    },
    {
     "name": "stdout",
     "output_type": "stream",
     "text": [
      "root\n",
      " |-- path: string (nullable = true)\n",
      " |-- modificationTime: timestamp (nullable = true)\n",
      " |-- length: long (nullable = true)\n",
      " |-- content: binary (nullable = true)\n",
      " |-- label: string (nullable = true)\n",
      "\n",
      "None\n",
      "+------------------------------------+-----+\n",
      "|path                                |label|\n",
      "+------------------------------------+-----+\n",
      "|s3://yb-p8-data/Test1/287_100.jpg   |Test1|\n",
      "|s3://yb-p8-data/Test1/r2_217_100.jpg|Test1|\n",
      "|s3://yb-p8-data/Test1/r_270_100.jpg |Test1|\n",
      "|s3://yb-p8-data/Test1/302_100.jpg   |Test1|\n",
      "|s3://yb-p8-data/Test1/95_100.jpg    |Test1|\n",
      "+------------------------------------+-----+\n",
      "only showing top 5 rows\n",
      "\n",
      "None"
     ]
    }
   ],
   "source": [
    "images_sample = images_sample.withColumn('label', element_at(split(images_sample['path'], '/'),-2))\n",
    "print(images_sample.printSchema())\n",
    "print(images_sample.select('path','label').show(5,False))"
   ]
  },
  {
   "cell_type": "code",
   "execution_count": 10,
   "id": "354f8eda",
   "metadata": {},
   "outputs": [
    {
     "data": {
      "application/vnd.jupyter.widget-view+json": {
       "model_id": "",
       "version_major": 2,
       "version_minor": 0
      },
      "text/plain": [
       "FloatProgress(value=0.0, bar_style='info', description='Progress:', layout=Layout(height='25px', width='50%'),…"
      ]
     },
     "metadata": {},
     "output_type": "display_data"
    },
    {
     "name": "stdout",
     "output_type": "stream",
     "text": [
      "+--------------------+-------------------+------+--------------------+-----+\n",
      "|                path|   modificationTime|length|             content|label|\n",
      "+--------------------+-------------------+------+--------------------+-----+\n",
      "|s3://yb-p8-data/T...|2023-10-08 01:16:15|  7227|[FF D8 FF E0 00 1...|Test1|\n",
      "|s3://yb-p8-data/T...|2023-10-08 01:16:16|  6721|[FF D8 FF E0 00 1...|Test1|\n",
      "|s3://yb-p8-data/T...|2023-10-08 01:16:16|  6565|[FF D8 FF E0 00 1...|Test1|\n",
      "|s3://yb-p8-data/T...|2023-10-08 01:16:15|  6514|[FF D8 FF E0 00 1...|Test1|\n",
      "|s3://yb-p8-data/T...|2023-10-08 01:16:16|  6417|[FF D8 FF E0 00 1...|Test1|\n",
      "+--------------------+-------------------+------+--------------------+-----+\n",
      "only showing top 5 rows"
     ]
    }
   ],
   "source": [
    "images_sample.show(5)"
   ]
  },
  {
   "cell_type": "code",
   "execution_count": 11,
   "id": "74af6f1d",
   "metadata": {},
   "outputs": [
    {
     "data": {
      "application/vnd.jupyter.widget-view+json": {
       "model_id": "",
       "version_major": 2,
       "version_minor": 0
      },
      "text/plain": [
       "FloatProgress(value=0.0, bar_style='info', description='Progress:', layout=Layout(height='25px', width='50%'),…"
      ]
     },
     "metadata": {},
     "output_type": "display_data"
    },
    {
     "name": "stdout",
     "output_type": "stream",
     "text": [
      "Nombre de lignes :  84\n",
      "Nombre de colonnes :  5\n",
      "Liste des colonnes :  ['path', 'modificationTime', 'length', 'content', 'label']"
     ]
    }
   ],
   "source": [
    "lignes = images_sample.count()\n",
    "colonnes = images_sample.columns\n",
    "print(\"Nombre de lignes : \", lignes)\n",
    "print(\"Nombre de colonnes : \", len(colonnes))\n",
    "print(\"Liste des colonnes : \", colonnes)"
   ]
  },
  {
   "cell_type": "code",
   "execution_count": 12,
   "id": "9075ef8d",
   "metadata": {},
   "outputs": [
    {
     "data": {
      "application/vnd.jupyter.widget-view+json": {
       "model_id": "",
       "version_major": 2,
       "version_minor": 0
      },
      "text/plain": [
       "FloatProgress(value=0.0, bar_style='info', description='Progress:', layout=Layout(height='25px', width='50%'),…"
      ]
     },
     "metadata": {},
     "output_type": "display_data"
    },
    {
     "name": "stdout",
     "output_type": "stream",
     "text": [
      "Downloading data from https://storage.googleapis.com/tensorflow/keras-applications/mobilenet_v2/mobilenet_v2_weights_tf_dim_ordering_tf_kernels_1.0_224.h5\n",
      "14536120/14536120 [==============================] - 1s 0us/step"
     ]
    }
   ],
   "source": [
    "model = MobileNetV2(weights='imagenet',include_top=True,input_shape=(224, 224, 3))\n"
   ]
  },
  {
   "cell_type": "code",
   "execution_count": 13,
   "id": "dd34a9fa",
   "metadata": {},
   "outputs": [
    {
     "data": {
      "application/vnd.jupyter.widget-view+json": {
       "model_id": "",
       "version_major": 2,
       "version_minor": 0
      },
      "text/plain": [
       "FloatProgress(value=0.0, bar_style='info', description='Progress:', layout=Layout(height='25px', width='50%'),…"
      ]
     },
     "metadata": {},
     "output_type": "display_data"
    }
   ],
   "source": [
    "new_model = Model(inputs=model.input,outputs=model.layers[-2].output)"
   ]
  },
  {
   "cell_type": "code",
   "execution_count": 14,
   "id": "e7aa9cdb",
   "metadata": {},
   "outputs": [
    {
     "data": {
      "application/vnd.jupyter.widget-view+json": {
       "model_id": "",
       "version_major": 2,
       "version_minor": 0
      },
      "text/plain": [
       "FloatProgress(value=0.0, bar_style='info', description='Progress:', layout=Layout(height='25px', width='50%'),…"
      ]
     },
     "metadata": {},
     "output_type": "display_data"
    },
    {
     "name": "stdout",
     "output_type": "stream",
     "text": [
      "Model: \"model\"\n",
      "__________________________________________________________________________________________________\n",
      " Layer (type)                   Output Shape         Param #     Connected to                     \n",
      "==================================================================================================\n",
      " input_1 (InputLayer)           [(None, 224, 224, 3  0           []                               \n",
      "                                )]                                                                \n",
      "                                                                                                  \n",
      " Conv1 (Conv2D)                 (None, 112, 112, 32  864         ['input_1[0][0]']                \n",
      "                                )                                                                 \n",
      "                                                                                                  \n",
      " bn_Conv1 (BatchNormalization)  (None, 112, 112, 32  128         ['Conv1[0][0]']                  \n",
      "                                )                                                                 \n",
      "                                                                                                  \n",
      " Conv1_relu (ReLU)              (None, 112, 112, 32  0           ['bn_Conv1[0][0]']               \n",
      "                                )                                                                 \n",
      "                                                                                                  \n",
      " expanded_conv_depthwise (Depth  (None, 112, 112, 32  288        ['Conv1_relu[0][0]']             \n",
      " wiseConv2D)                    )                                                                 \n",
      "                                                                                                  \n",
      " expanded_conv_depthwise_BN (Ba  (None, 112, 112, 32  128        ['expanded_conv_depthwise[0][0]']\n",
      " tchNormalization)              )                                                                 \n",
      "                                                                                                  \n",
      " expanded_conv_depthwise_relu (  (None, 112, 112, 32  0          ['expanded_conv_depthwise_BN[0][0\n",
      " ReLU)                          )                                ]']                              \n",
      "                                                                                                  \n",
      " expanded_conv_project (Conv2D)  (None, 112, 112, 16  512        ['expanded_conv_depthwise_relu[0]\n",
      "                                )                                [0]']                            \n",
      "                                                                                                  \n",
      " expanded_conv_project_BN (Batc  (None, 112, 112, 16  64         ['expanded_conv_project[0][0]']  \n",
      " hNormalization)                )                                                                 \n",
      "                                                                                                  \n",
      " block_1_expand (Conv2D)        (None, 112, 112, 96  1536        ['expanded_conv_project_BN[0][0]'\n",
      "                                )                                ]                                \n",
      "                                                                                                  \n",
      " block_1_expand_BN (BatchNormal  (None, 112, 112, 96  384        ['block_1_expand[0][0]']         \n",
      " ization)                       )                                                                 \n",
      "                                                                                                  \n",
      " block_1_expand_relu (ReLU)     (None, 112, 112, 96  0           ['block_1_expand_BN[0][0]']      \n",
      "                                )                                                                 \n",
      "                                                                                                  \n",
      " block_1_pad (ZeroPadding2D)    (None, 113, 113, 96  0           ['block_1_expand_relu[0][0]']    \n",
      "                                )                                                                 \n",
      "                                                                                                  \n",
      " block_1_depthwise (DepthwiseCo  (None, 56, 56, 96)  864         ['block_1_pad[0][0]']            \n",
      " nv2D)                                                                                            \n",
      "                                                                                                  \n",
      " block_1_depthwise_BN (BatchNor  (None, 56, 56, 96)  384         ['block_1_depthwise[0][0]']      \n",
      " malization)                                                                                      \n",
      "                                                                                                  \n",
      " block_1_depthwise_relu (ReLU)  (None, 56, 56, 96)   0           ['block_1_depthwise_BN[0][0]']   \n",
      "                                                                                                  \n",
      " block_1_project (Conv2D)       (None, 56, 56, 24)   2304        ['block_1_depthwise_relu[0][0]'] \n",
      "                                                                                                  \n",
      " block_1_project_BN (BatchNorma  (None, 56, 56, 24)  96          ['block_1_project[0][0]']        \n",
      " lization)                                                                                        \n",
      "                                                                                                  \n",
      " block_2_expand (Conv2D)        (None, 56, 56, 144)  3456        ['block_1_project_BN[0][0]']     \n",
      "                                                                                                  \n",
      " block_2_expand_BN (BatchNormal  (None, 56, 56, 144)  576        ['block_2_expand[0][0]']         \n",
      " ization)                                                                                         \n",
      "                                                                                                  \n",
      " block_2_expand_relu (ReLU)     (None, 56, 56, 144)  0           ['block_2_expand_BN[0][0]']      \n",
      "                                                                                                  \n",
      " block_2_depthwise (DepthwiseCo  (None, 56, 56, 144)  1296       ['block_2_expand_relu[0][0]']    \n",
      " nv2D)                                                                                            \n",
      "                                                                                                  \n",
      " block_2_depthwise_BN (BatchNor  (None, 56, 56, 144)  576        ['block_2_depthwise[0][0]']      \n",
      " malization)                                                                                      \n",
      "                                                                                                  \n",
      " block_2_depthwise_relu (ReLU)  (None, 56, 56, 144)  0           ['block_2_depthwise_BN[0][0]']   \n",
      "                                                                                                  \n",
      " block_2_project (Conv2D)       (None, 56, 56, 24)   3456        ['block_2_depthwise_relu[0][0]'] \n",
      "                                                                                                  \n",
      " block_2_project_BN (BatchNorma  (None, 56, 56, 24)  96          ['block_2_project[0][0]']        \n",
      " lization)                                                                                        \n",
      "                                                                                                  \n",
      " block_2_add (Add)              (None, 56, 56, 24)   0           ['block_1_project_BN[0][0]',     \n",
      "                                                                  'block_2_project_BN[0][0]']     \n",
      "                                                                                                  \n",
      " block_3_expand (Conv2D)        (None, 56, 56, 144)  3456        ['block_2_add[0][0]']            \n",
      "                                                                                                  \n",
      " block_3_expand_BN (BatchNormal  (None, 56, 56, 144)  576        ['block_3_expand[0][0]']         \n",
      " ization)                                                                                         \n",
      "                                                                                                  \n",
      " block_3_expand_relu (ReLU)     (None, 56, 56, 144)  0           ['block_3_expand_BN[0][0]']      \n",
      "                                                                                                  \n",
      " block_3_pad (ZeroPadding2D)    (None, 57, 57, 144)  0           ['block_3_expand_relu[0][0]']    \n",
      "                                                                                                  \n",
      " block_3_depthwise (DepthwiseCo  (None, 28, 28, 144)  1296       ['block_3_pad[0][0]']            \n",
      " nv2D)                                                                                            \n",
      "                                                                                                  \n",
      " block_3_depthwise_BN (BatchNor  (None, 28, 28, 144)  576        ['block_3_depthwise[0][0]']      \n",
      " malization)                                                                                      \n",
      "                                                                                                  \n",
      " block_3_depthwise_relu (ReLU)  (None, 28, 28, 144)  0           ['block_3_depthwise_BN[0][0]']   \n",
      "                                                                                                  \n",
      " block_3_project (Conv2D)       (None, 28, 28, 32)   4608        ['block_3_depthwise_relu[0][0]'] \n",
      "                                                                                                  \n",
      " block_3_project_BN (BatchNorma  (None, 28, 28, 32)  128         ['block_3_project[0][0]']        \n",
      " lization)                                                                                        \n",
      "                                                                                                  \n",
      " block_4_expand (Conv2D)        (None, 28, 28, 192)  6144        ['block_3_project_BN[0][0]']     \n",
      "                                                                                                  \n",
      " block_4_expand_BN (BatchNormal  (None, 28, 28, 192)  768        ['block_4_expand[0][0]']         \n",
      " ization)                                                                                         \n",
      "                                                                                                  \n",
      " block_4_expand_relu (ReLU)     (None, 28, 28, 192)  0           ['block_4_expand_BN[0][0]']      \n",
      "                                                                                                  \n",
      " block_4_depthwise (DepthwiseCo  (None, 28, 28, 192)  1728       ['block_4_expand_relu[0][0]']    \n",
      " nv2D)                                                                                            \n",
      "                                                                                                  \n",
      " block_4_depthwise_BN (BatchNor  (None, 28, 28, 192)  768        ['block_4_depthwise[0][0]']      \n",
      " malization)                                                                                      \n",
      "                                                                                                  \n",
      " block_4_depthwise_relu (ReLU)  (None, 28, 28, 192)  0           ['block_4_depthwise_BN[0][0]']   \n",
      "                                                                                                  \n",
      " block_4_project (Conv2D)       (None, 28, 28, 32)   6144        ['block_4_depthwise_relu[0][0]'] \n",
      "                                                                                                  \n",
      " block_4_project_BN (BatchNorma  (None, 28, 28, 32)  128         ['block_4_project[0][0]']        \n",
      " lization)                                                                                        \n",
      "                                                                                                  \n",
      " block_4_add (Add)              (None, 28, 28, 32)   0           ['block_3_project_BN[0][0]',     \n",
      "                                                                  'block_4_project_BN[0][0]']     \n",
      "                                                                                                  \n",
      " block_5_expand (Conv2D)        (None, 28, 28, 192)  6144        ['block_4_add[0][0]']            \n",
      "                                                                                                  \n",
      " block_5_expand_BN (BatchNormal  (None, 28, 28, 192)  768        ['block_5_expand[0][0]']         \n",
      " ization)                                                                                         \n",
      "                                                                                                  \n",
      " block_5_expand_relu (ReLU)     (None, 28, 28, 192)  0           ['block_5_expand_BN[0][0]']      \n",
      "                                                                                                  \n",
      " block_5_depthwise (DepthwiseCo  (None, 28, 28, 192)  1728       ['block_5_expand_relu[0][0]']    \n",
      " nv2D)                                                                                            \n",
      "                                                                                                  \n",
      " block_5_depthwise_BN (BatchNor  (None, 28, 28, 192)  768        ['block_5_depthwise[0][0]']      \n",
      " malization)                                                                                      \n",
      "                                                                                                  \n",
      " block_5_depthwise_relu (ReLU)  (None, 28, 28, 192)  0           ['block_5_depthwise_BN[0][0]']   \n",
      "                                                                                                  \n",
      " block_5_project (Conv2D)       (None, 28, 28, 32)   6144        ['block_5_depthwise_relu[0][0]'] \n",
      "                                                                                                  \n",
      " block_5_project_BN (BatchNorma  (None, 28, 28, 32)  128         ['block_5_project[0][0]']        \n",
      " lization)                                                                                        \n",
      "                                                                                                  \n",
      " block_5_add (Add)              (None, 28, 28, 32)   0           ['block_4_add[0][0]',            \n",
      "                                                                  'block_5_project_BN[0][0]']     \n",
      "                                                                                                  \n",
      " block_6_expand (Conv2D)        (None, 28, 28, 192)  6144        ['block_5_add[0][0]']            \n",
      "                                                                                                  \n",
      " block_6_expand_BN (BatchNormal  (None, 28, 28, 192)  768        ['block_6_expand[0][0]']         \n",
      " ization)                                                                                         \n",
      "                                                                                                  \n",
      " block_6_expand_relu (ReLU)     (None, 28, 28, 192)  0           ['block_6_expand_BN[0][0]']      \n",
      "                                                                                                  \n",
      " block_6_pad (ZeroPadding2D)    (None, 29, 29, 192)  0           ['block_6_expand_relu[0][0]']    \n",
      "                                                                                                  \n",
      " block_6_depthwise (DepthwiseCo  (None, 14, 14, 192)  1728       ['block_6_pad[0][0]']            \n",
      " nv2D)                                                                                            \n",
      "                                                                                                  \n",
      " block_6_depthwise_BN (BatchNor  (None, 14, 14, 192)  768        ['block_6_depthwise[0][0]']      \n",
      " malization)                                                                                      \n",
      "                                                                                                  \n",
      " block_6_depthwise_relu (ReLU)  (None, 14, 14, 192)  0           ['block_6_depthwise_BN[0][0]']   \n",
      "                                                                                                  \n",
      " block_6_project (Conv2D)       (None, 14, 14, 64)   12288       ['block_6_depthwise_relu[0][0]'] \n",
      "                                                                                                  \n",
      " block_6_project_BN (BatchNorma  (None, 14, 14, 64)  256         ['block_6_project[0][0]']        \n",
      " lization)                                                                                        \n",
      "                                                                                                  \n",
      " block_7_expand (Conv2D)        (None, 14, 14, 384)  24576       ['block_6_project_BN[0][0]']     \n",
      "                                                                                                  \n",
      " block_7_expand_BN (BatchNormal  (None, 14, 14, 384)  1536       ['block_7_expand[0][0]']         \n",
      " ization)                                                                                         \n",
      "                                                                                                  \n",
      " block_7_expand_relu (ReLU)     (None, 14, 14, 384)  0           ['block_7_expand_BN[0][0]']      \n",
      "                                                                                                  \n",
      " block_7_depthwise (DepthwiseCo  (None, 14, 14, 384)  3456       ['block_7_expand_relu[0][0]']    \n",
      " nv2D)                                                                                            \n",
      "                                                                                                  \n",
      " block_7_depthwise_BN (BatchNor  (None, 14, 14, 384)  1536       ['block_7_depthwise[0][0]']      \n",
      " malization)                                                                                      \n",
      "                                                                                                  \n",
      " block_7_depthwise_relu (ReLU)  (None, 14, 14, 384)  0           ['block_7_depthwise_BN[0][0]']   \n",
      "                                                                                                  \n",
      " block_7_project (Conv2D)       (None, 14, 14, 64)   24576       ['block_7_depthwise_relu[0][0]'] \n",
      "                                                                                                  \n",
      " block_7_project_BN (BatchNorma  (None, 14, 14, 64)  256         ['block_7_project[0][0]']        \n",
      " lization)                                                                                        \n",
      "                                                                                                  \n",
      " block_7_add (Add)              (None, 14, 14, 64)   0           ['block_6_project_BN[0][0]',     \n",
      "                                                                  'block_7_project_BN[0][0]']     \n",
      "                                                                                                  \n",
      " block_8_expand (Conv2D)        (None, 14, 14, 384)  24576       ['block_7_add[0][0]']            \n",
      "                                                                                                  \n",
      " block_8_expand_BN (BatchNormal  (None, 14, 14, 384)  1536       ['block_8_expand[0][0]']         \n",
      " ization)                                                                                         \n",
      "                                                                                                  \n",
      " block_8_expand_relu (ReLU)     (None, 14, 14, 384)  0           ['block_8_expand_BN[0][0]']      \n",
      "                                                                                                  \n",
      " block_8_depthwise (DepthwiseCo  (None, 14, 14, 384)  3456       ['block_8_expand_relu[0][0]']    \n",
      " nv2D)                                                                                            \n",
      "                                                                                                  \n",
      " block_8_depthwise_BN (BatchNor  (None, 14, 14, 384)  1536       ['block_8_depthwise[0][0]']      \n",
      " malization)                                                                                      \n",
      "                                                                                                  \n",
      " block_8_depthwise_relu (ReLU)  (None, 14, 14, 384)  0           ['block_8_depthwise_BN[0][0]']   \n",
      "                                                                                                  \n",
      " block_8_project (Conv2D)       (None, 14, 14, 64)   24576       ['block_8_depthwise_relu[0][0]'] \n",
      "                                                                                                  \n",
      " block_8_project_BN (BatchNorma  (None, 14, 14, 64)  256         ['block_8_project[0][0]']        \n",
      " lization)                                                                                        \n",
      "                                                                                                  \n",
      " block_8_add (Add)              (None, 14, 14, 64)   0           ['block_7_add[0][0]',            \n",
      "                                                                  'block_8_project_BN[0][0]']     \n",
      "                                                                                                  \n",
      " block_9_expand (Conv2D)        (None, 14, 14, 384)  24576       ['block_8_add[0][0]']            \n",
      "                                                                                                  \n",
      " block_9_expand_BN (BatchNormal  (None, 14, 14, 384)  1536       ['block_9_expand[0][0]']         \n",
      " ization)                                                                                         \n",
      "                                                                                                  \n",
      " block_9_expand_relu (ReLU)     (None, 14, 14, 384)  0           ['block_9_expand_BN[0][0]']      \n",
      "                                                                                                  \n",
      " block_9_depthwise (DepthwiseCo  (None, 14, 14, 384)  3456       ['block_9_expand_relu[0][0]']    \n",
      " nv2D)                                                                                            \n",
      "                                                                                                  \n",
      " block_9_depthwise_BN (BatchNor  (None, 14, 14, 384)  1536       ['block_9_depthwise[0][0]']      \n",
      " malization)                                                                                      \n",
      "                                                                                                  \n",
      " block_9_depthwise_relu (ReLU)  (None, 14, 14, 384)  0           ['block_9_depthwise_BN[0][0]']   \n",
      "                                                                                                  \n",
      " block_9_project (Conv2D)       (None, 14, 14, 64)   24576       ['block_9_depthwise_relu[0][0]'] \n",
      "                                                                                                  \n",
      " block_9_project_BN (BatchNorma  (None, 14, 14, 64)  256         ['block_9_project[0][0]']        \n",
      " lization)                                                                                        \n",
      "                                                                                                  \n",
      " block_9_add (Add)              (None, 14, 14, 64)   0           ['block_8_add[0][0]',            \n",
      "                                                                  'block_9_project_BN[0][0]']     \n",
      "                                                                                                  \n",
      " block_10_expand (Conv2D)       (None, 14, 14, 384)  24576       ['block_9_add[0][0]']            \n",
      "                                                                                                  \n",
      " block_10_expand_BN (BatchNorma  (None, 14, 14, 384)  1536       ['block_10_expand[0][0]']        \n",
      " lization)                                                                                        \n",
      "                                                                                                  \n",
      " block_10_expand_relu (ReLU)    (None, 14, 14, 384)  0           ['block_10_expand_BN[0][0]']     \n",
      "                                                                                                  \n",
      " block_10_depthwise (DepthwiseC  (None, 14, 14, 384)  3456       ['block_10_expand_relu[0][0]']   \n",
      " onv2D)                                                                                           \n",
      "                                                                                                  \n",
      " block_10_depthwise_BN (BatchNo  (None, 14, 14, 384)  1536       ['block_10_depthwise[0][0]']     \n",
      " rmalization)                                                                                     \n",
      "                                                                                                  \n",
      " block_10_depthwise_relu (ReLU)  (None, 14, 14, 384)  0          ['block_10_depthwise_BN[0][0]']  \n",
      "                                                                                                  \n",
      " block_10_project (Conv2D)      (None, 14, 14, 96)   36864       ['block_10_depthwise_relu[0][0]']\n",
      "                                                                                                  \n",
      " block_10_project_BN (BatchNorm  (None, 14, 14, 96)  384         ['block_10_project[0][0]']       \n",
      " alization)                                                                                       \n",
      "                                                                                                  \n",
      " block_11_expand (Conv2D)       (None, 14, 14, 576)  55296       ['block_10_project_BN[0][0]']    \n",
      "                                                                                                  \n",
      " block_11_expand_BN (BatchNorma  (None, 14, 14, 576)  2304       ['block_11_expand[0][0]']        \n",
      " lization)                                                                                        \n",
      "                                                                                                  \n",
      " block_11_expand_relu (ReLU)    (None, 14, 14, 576)  0           ['block_11_expand_BN[0][0]']     \n",
      "                                                                                                  \n",
      " block_11_depthwise (DepthwiseC  (None, 14, 14, 576)  5184       ['block_11_expand_relu[0][0]']   \n",
      " onv2D)                                                                                           \n",
      "                                                                                                  \n",
      " block_11_depthwise_BN (BatchNo  (None, 14, 14, 576)  2304       ['block_11_depthwise[0][0]']     \n",
      " rmalization)                                                                                     \n",
      "                                                                                                  \n",
      " block_11_depthwise_relu (ReLU)  (None, 14, 14, 576)  0          ['block_11_depthwise_BN[0][0]']  \n",
      "                                                                                                  \n",
      " block_11_project (Conv2D)      (None, 14, 14, 96)   55296       ['block_11_depthwise_relu[0][0]']\n",
      "                                                                                                  \n",
      " block_11_project_BN (BatchNorm  (None, 14, 14, 96)  384         ['block_11_project[0][0]']       \n",
      " alization)                                                                                       \n",
      "                                                                                                  \n",
      " block_11_add (Add)             (None, 14, 14, 96)   0           ['block_10_project_BN[0][0]',    \n",
      "                                                                  'block_11_project_BN[0][0]']    \n",
      "                                                                                                  \n",
      " block_12_expand (Conv2D)       (None, 14, 14, 576)  55296       ['block_11_add[0][0]']           \n",
      "                                                                                                  \n",
      " block_12_expand_BN (BatchNorma  (None, 14, 14, 576)  2304       ['block_12_expand[0][0]']        \n",
      " lization)                                                                                        \n",
      "                                                                                                  \n",
      " block_12_expand_relu (ReLU)    (None, 14, 14, 576)  0           ['block_12_expand_BN[0][0]']     \n",
      "                                                                                                  \n",
      " block_12_depthwise (DepthwiseC  (None, 14, 14, 576)  5184       ['block_12_expand_relu[0][0]']   \n",
      " onv2D)                                                                                           \n",
      "                                                                                                  \n",
      " block_12_depthwise_BN (BatchNo  (None, 14, 14, 576)  2304       ['block_12_depthwise[0][0]']     \n",
      " rmalization)                                                                                     \n",
      "                                                                                                  \n",
      " block_12_depthwise_relu (ReLU)  (None, 14, 14, 576)  0          ['block_12_depthwise_BN[0][0]']  \n",
      "                                                                                                  \n",
      " block_12_project (Conv2D)      (None, 14, 14, 96)   55296       ['block_12_depthwise_relu[0][0]']\n",
      "                                                                                                  \n",
      " block_12_project_BN (BatchNorm  (None, 14, 14, 96)  384         ['block_12_project[0][0]']       \n",
      " alization)                                                                                       \n",
      "                                                                                                  \n",
      " block_12_add (Add)             (None, 14, 14, 96)   0           ['block_11_add[0][0]',           \n",
      "                                                                  'block_12_project_BN[0][0]']    \n",
      "                                                                                                  \n",
      " block_13_expand (Conv2D)       (None, 14, 14, 576)  55296       ['block_12_add[0][0]']           \n",
      "                                                                                                  \n",
      " block_13_expand_BN (BatchNorma  (None, 14, 14, 576)  2304       ['block_13_expand[0][0]']        \n",
      " lization)                                                                                        \n",
      "                                                                                                  \n",
      " block_13_expand_relu (ReLU)    (None, 14, 14, 576)  0           ['block_13_expand_BN[0][0]']     \n",
      "                                                                                                  \n",
      " block_13_pad (ZeroPadding2D)   (None, 15, 15, 576)  0           ['block_13_expand_relu[0][0]']   \n",
      "                                                                                                  \n",
      " block_13_depthwise (DepthwiseC  (None, 7, 7, 576)   5184        ['block_13_pad[0][0]']           \n",
      " onv2D)                                                                                           \n",
      "                                                                                                  \n",
      " block_13_depthwise_BN (BatchNo  (None, 7, 7, 576)   2304        ['block_13_depthwise[0][0]']     \n",
      " rmalization)                                                                                     \n",
      "                                                                                                  \n",
      " block_13_depthwise_relu (ReLU)  (None, 7, 7, 576)   0           ['block_13_depthwise_BN[0][0]']  \n",
      "                                                                                                  \n",
      " block_13_project (Conv2D)      (None, 7, 7, 160)    92160       ['block_13_depthwise_relu[0][0]']\n",
      "                                                                                                  \n",
      " block_13_project_BN (BatchNorm  (None, 7, 7, 160)   640         ['block_13_project[0][0]']       \n",
      " alization)                                                                                       \n",
      "                                                                                                  \n",
      " block_14_expand (Conv2D)       (None, 7, 7, 960)    153600      ['block_13_project_BN[0][0]']    \n",
      "                                                                                                  \n",
      " block_14_expand_BN (BatchNorma  (None, 7, 7, 960)   3840        ['block_14_expand[0][0]']        \n",
      " lization)                                                                                        \n",
      "                                                                                                  \n",
      " block_14_expand_relu (ReLU)    (None, 7, 7, 960)    0           ['block_14_expand_BN[0][0]']     \n",
      "                                                                                                  \n",
      " block_14_depthwise (DepthwiseC  (None, 7, 7, 960)   8640        ['block_14_expand_relu[0][0]']   \n",
      " onv2D)                                                                                           \n",
      "                                                                                                  \n",
      " block_14_depthwise_BN (BatchNo  (None, 7, 7, 960)   3840        ['block_14_depthwise[0][0]']     \n",
      " rmalization)                                                                                     \n",
      "                                                                                                  \n",
      " block_14_depthwise_relu (ReLU)  (None, 7, 7, 960)   0           ['block_14_depthwise_BN[0][0]']  \n",
      "                                                                                                  \n",
      " block_14_project (Conv2D)      (None, 7, 7, 160)    153600      ['block_14_depthwise_relu[0][0]']\n",
      "                                                                                                  \n",
      " block_14_project_BN (BatchNorm  (None, 7, 7, 160)   640         ['block_14_project[0][0]']       \n",
      " alization)                                                                                       \n",
      "                                                                                                  \n",
      " block_14_add (Add)             (None, 7, 7, 160)    0           ['block_13_project_BN[0][0]',    \n",
      "                                                                  'block_14_project_BN[0][0]']    \n",
      "                                                                                                  \n",
      " block_15_expand (Conv2D)       (None, 7, 7, 960)    153600      ['block_14_add[0][0]']           \n",
      "                                                                                                  \n",
      " block_15_expand_BN (BatchNorma  (None, 7, 7, 960)   3840        ['block_15_expand[0][0]']        \n",
      " lization)                                                                                        \n",
      "                                                                                                  \n",
      " block_15_expand_relu (ReLU)    (None, 7, 7, 960)    0           ['block_15_expand_BN[0][0]']     \n",
      "                                                                                                  \n",
      " block_15_depthwise (DepthwiseC  (None, 7, 7, 960)   8640        ['block_15_expand_relu[0][0]']   \n",
      " onv2D)                                                                                           \n",
      "                                                                                                  \n",
      " block_15_depthwise_BN (BatchNo  (None, 7, 7, 960)   3840        ['block_15_depthwise[0][0]']     \n",
      " rmalization)                                                                                     \n",
      "                                                                                                  \n",
      " block_15_depthwise_relu (ReLU)  (None, 7, 7, 960)   0           ['block_15_depthwise_BN[0][0]']  \n",
      "                                                                                                  \n",
      " block_15_project (Conv2D)      (None, 7, 7, 160)    153600      ['block_15_depthwise_relu[0][0]']\n",
      "                                                                                                  \n",
      " block_15_project_BN (BatchNorm  (None, 7, 7, 160)   640         ['block_15_project[0][0]']       \n",
      " alization)                                                                                       \n",
      "                                                                                                  \n",
      " block_15_add (Add)             (None, 7, 7, 160)    0           ['block_14_add[0][0]',           \n",
      "                                                                  'block_15_project_BN[0][0]']    \n",
      "                                                                                                  \n",
      " block_16_expand (Conv2D)       (None, 7, 7, 960)    153600      ['block_15_add[0][0]']           \n",
      "                                                                                                  \n",
      " block_16_expand_BN (BatchNorma  (None, 7, 7, 960)   3840        ['block_16_expand[0][0]']        \n",
      " lization)                                                                                        \n",
      "                                                                                                  \n",
      " block_16_expand_relu (ReLU)    (None, 7, 7, 960)    0           ['block_16_expand_BN[0][0]']     \n",
      "                                                                                                  \n",
      " block_16_depthwise (DepthwiseC  (None, 7, 7, 960)   8640        ['block_16_expand_relu[0][0]']   \n",
      " onv2D)                                                                                           \n",
      "                                                                                                  \n",
      " block_16_depthwise_BN (BatchNo  (None, 7, 7, 960)   3840        ['block_16_depthwise[0][0]']     \n",
      " rmalization)                                                                                     \n",
      "                                                                                                  \n",
      " block_16_depthwise_relu (ReLU)  (None, 7, 7, 960)   0           ['block_16_depthwise_BN[0][0]']  \n",
      "                                                                                                  \n",
      " block_16_project (Conv2D)      (None, 7, 7, 320)    307200      ['block_16_depthwise_relu[0][0]']\n",
      "                                                                                                  \n",
      " block_16_project_BN (BatchNorm  (None, 7, 7, 320)   1280        ['block_16_project[0][0]']       \n",
      " alization)                                                                                       \n",
      "                                                                                                  \n",
      " Conv_1 (Conv2D)                (None, 7, 7, 1280)   409600      ['block_16_project_BN[0][0]']    \n",
      "                                                                                                  \n",
      " Conv_1_bn (BatchNormalization)  (None, 7, 7, 1280)  5120        ['Conv_1[0][0]']                 \n",
      "                                                                                                  \n",
      " out_relu (ReLU)                (None, 7, 7, 1280)   0           ['Conv_1_bn[0][0]']              \n",
      "                                                                                                  \n",
      " global_average_pooling2d (Glob  (None, 1280)        0           ['out_relu[0][0]']               \n",
      " alAveragePooling2D)                                                                              \n",
      "                                                                                                  \n",
      "==================================================================================================\n",
      "Total params: 2,257,984\n",
      "Trainable params: 2,223,872\n",
      "Non-trainable params: 34,112\n",
      "__________________________________________________________________________________________________"
     ]
    }
   ],
   "source": [
    "new_model.summary()"
   ]
  },
  {
   "cell_type": "code",
   "execution_count": 15,
   "id": "f2cac897",
   "metadata": {},
   "outputs": [
    {
     "data": {
      "application/vnd.jupyter.widget-view+json": {
       "model_id": "",
       "version_major": 2,
       "version_minor": 0
      },
      "text/plain": [
       "FloatProgress(value=0.0, bar_style='info', description='Progress:', layout=Layout(height='25px', width='50%'),…"
      ]
     },
     "metadata": {},
     "output_type": "display_data"
    }
   ],
   "source": [
    "brodcast_weights = sc.broadcast(new_model.get_weights())"
   ]
  },
  {
   "cell_type": "code",
   "execution_count": 16,
   "id": "f18b6d6a",
   "metadata": {},
   "outputs": [
    {
     "data": {
      "application/vnd.jupyter.widget-view+json": {
       "model_id": "",
       "version_major": 2,
       "version_minor": 0
      },
      "text/plain": [
       "FloatProgress(value=0.0, bar_style='info', description='Progress:', layout=Layout(height='25px', width='50%'),…"
      ]
     },
     "metadata": {},
     "output_type": "display_data"
    }
   ],
   "source": [
    "def model_fn():\n",
    "    \"\"\"\n",
    "    Returns a MobileNetV2 model with top layer removed \n",
    "    and broadcasted pretrained weights.\n",
    "    \"\"\"\n",
    "    model = MobileNetV2(weights='imagenet',\n",
    "                        include_top=True,\n",
    "                        input_shape=(224, 224, 3))\n",
    "    for layer in model.layers:\n",
    "        layer.trainable = False\n",
    "    new_model = Model(inputs=model.input,\n",
    "                  outputs=model.layers[-2].output)\n",
    "    new_model.set_weights(brodcast_weights.value)\n",
    "    return new_model"
   ]
  },
  {
   "cell_type": "code",
   "execution_count": 17,
   "id": "efd627c9",
   "metadata": {},
   "outputs": [
    {
     "data": {
      "application/vnd.jupyter.widget-view+json": {
       "model_id": "",
       "version_major": 2,
       "version_minor": 0
      },
      "text/plain": [
       "FloatProgress(value=0.0, bar_style='info', description='Progress:', layout=Layout(height='25px', width='50%'),…"
      ]
     },
     "metadata": {},
     "output_type": "display_data"
    },
    {
     "name": "stdout",
     "output_type": "stream",
     "text": [
      "/mnt1/yarn/usercache/livy/appcache/application_1697504556601_0001/container_1697504556601_0001_01_000001/pyspark.zip/pyspark/sql/pandas/functions.py:392: UserWarning: In Python 3.6+ and Spark 3.0+, it is preferred to specify type hints for pandas UDF instead of specifying pandas UDF type which will be deprecated in the future releases. See SPARK-28264 for more details."
     ]
    }
   ],
   "source": [
    "def preprocess(content):\n",
    "    \"\"\"\n",
    "    Preprocesses raw image bytes for prediction.\n",
    "    \"\"\"\n",
    "    img = Image.open(io.BytesIO(content)).resize([224, 224])\n",
    "    arr = img_to_array(img)\n",
    "    return preprocess_input(arr)\n",
    "\n",
    "def featurize_series(model, content_series):\n",
    "    \"\"\"\n",
    "    Featurize a pd.Series of raw images using the input model.\n",
    "    :return: a pd.Series of image features\n",
    "    \"\"\"\n",
    "    input = np.stack(content_series.map(preprocess))\n",
    "    preds = model.predict(input)\n",
    "    # For some layers, output features will be multi-dimensional tensors.\n",
    "    # We flatten the feature tensors to vectors for easier storage in Spark DataFrames.\n",
    "    output = [p.flatten() for p in preds]\n",
    "    return pd.Series(output)\n",
    "\n",
    "@pandas_udf('array<float>', PandasUDFType.SCALAR_ITER)\n",
    "def featurize_udf(content_series_iter):\n",
    "    '''\n",
    "    This method is a Scalar Iterator pandas UDF wrapping our featurization function.\n",
    "    The decorator specifies that this returns a Spark DataFrame column of type ArrayType(FloatType).\n",
    "\n",
    "    :param content_series_iter: This argument is an iterator over batches of data, where each batch\n",
    "                              is a pandas Series of image data.\n",
    "    '''\n",
    "    # With Scalar Iterator pandas UDFs, we can load the model once and then re-use it\n",
    "    # for multiple data batches.  This amortizes the overhead of loading big models.\n",
    "    model = model_fn()\n",
    "    for content_series in content_series_iter:\n",
    "        yield featurize_series(model, content_series)"
   ]
  },
  {
   "cell_type": "code",
   "execution_count": 18,
   "id": "4b5b0611",
   "metadata": {},
   "outputs": [
    {
     "data": {
      "application/vnd.jupyter.widget-view+json": {
       "model_id": "",
       "version_major": 2,
       "version_minor": 0
      },
      "text/plain": [
       "FloatProgress(value=0.0, bar_style='info', description='Progress:', layout=Layout(height='25px', width='50%'),…"
      ]
     },
     "metadata": {},
     "output_type": "display_data"
    }
   ],
   "source": [
    "features_df = images_sample.repartition(24).select(col(\"path\"), col(\"label\"), featurize_udf(\"content\").alias(\"features\"))\n"
   ]
  },
  {
   "cell_type": "code",
   "execution_count": 19,
   "id": "0f8a14f0",
   "metadata": {},
   "outputs": [
    {
     "data": {
      "application/vnd.jupyter.widget-view+json": {
       "model_id": "",
       "version_major": 2,
       "version_minor": 0
      },
      "text/plain": [
       "FloatProgress(value=0.0, bar_style='info', description='Progress:', layout=Layout(height='25px', width='50%'),…"
      ]
     },
     "metadata": {},
     "output_type": "display_data"
    },
    {
     "name": "stdout",
     "output_type": "stream",
     "text": [
      "['path', 'label', 'features']"
     ]
    }
   ],
   "source": [
    "features_df.columns"
   ]
  },
  {
   "cell_type": "code",
   "execution_count": 20,
   "id": "f88715b4",
   "metadata": {},
   "outputs": [
    {
     "data": {
      "application/vnd.jupyter.widget-view+json": {
       "model_id": "",
       "version_major": 2,
       "version_minor": 0
      },
      "text/plain": [
       "FloatProgress(value=0.0, bar_style='info', description='Progress:', layout=Layout(height='25px', width='50%'),…"
      ]
     },
     "metadata": {},
     "output_type": "display_data"
    },
    {
     "name": "stdout",
     "output_type": "stream",
     "text": [
      "Nombre de lignes :  84\n",
      "Nombre de colonnes :  3\n",
      "Liste des colonnes :  ['path', 'label', 'features']"
     ]
    }
   ],
   "source": [
    "lignes = features_df.count()\n",
    "colonnes = features_df.columns\n",
    "print(\"Nombre de lignes : \", lignes)\n",
    "print(\"Nombre de colonnes : \", len(colonnes))\n",
    "print(\"Liste des colonnes : \", colonnes)"
   ]
  },
  {
   "cell_type": "code",
   "execution_count": null,
   "id": "cf6e4691",
   "metadata": {},
   "outputs": [],
   "source": []
  },
  {
   "cell_type": "code",
   "execution_count": null,
   "id": "d7b96ff9",
   "metadata": {},
   "outputs": [],
   "source": []
  },
  {
   "cell_type": "code",
   "execution_count": null,
   "id": "1fe05e7c",
   "metadata": {},
   "outputs": [],
   "source": []
  },
  {
   "cell_type": "markdown",
   "id": "6576c09e",
   "metadata": {},
   "source": [
    "# pca"
   ]
  },
  {
   "cell_type": "code",
   "execution_count": 21,
   "id": "6e91a7e4",
   "metadata": {},
   "outputs": [
    {
     "data": {
      "application/vnd.jupyter.widget-view+json": {
       "model_id": "",
       "version_major": 2,
       "version_minor": 0
      },
      "text/plain": [
       "FloatProgress(value=0.0, bar_style='info', description='Progress:', layout=Layout(height='25px', width='50%'),…"
      ]
     },
     "metadata": {},
     "output_type": "display_data"
    },
    {
     "name": "stdout",
     "output_type": "stream",
     "text": [
      "+--------------------+-----+--------------------+\n",
      "|                path|label|            features|\n",
      "+--------------------+-----+--------------------+\n",
      "|s3://yb-p8-data/T...|Test1|[0.00816914532333...|\n",
      "|s3://yb-p8-data/T...|Test1|[0.22056847810745...|\n",
      "|s3://yb-p8-data/T...|Test1|[0.02453731000423...|\n",
      "|s3://yb-p8-data/T...|Test1|[9.49188135564327...|\n",
      "|s3://yb-p8-data/T...|Test1|[0.02011210657656...|\n",
      "|s3://yb-p8-data/T...|Test1|[0.07047773152589...|\n",
      "|s3://yb-p8-data/T...|Test1|[0.07834690809249...|\n",
      "|s3://yb-p8-data/T...|Test1|[1.70806729793548...|\n",
      "|s3://yb-p8-data/T...|Test1|[0.0,1.3143686056...|\n",
      "|s3://yb-p8-data/T...|Test1|[1.04676294326782...|\n",
      "|s3://yb-p8-data/T...|Test1|[5.15967025421559...|\n",
      "|s3://yb-p8-data/T...|Test1|[0.31317290663719...|\n",
      "|s3://yb-p8-data/T...|Test1|[0.0,0.3787662386...|\n",
      "|s3://yb-p8-data/T...|Test1|[0.47895160317420...|\n",
      "|s3://yb-p8-data/T...|Test1|[0.0,0.3622586429...|\n",
      "|s3://yb-p8-data/T...|Test1|[0.02039339020848...|\n",
      "|s3://yb-p8-data/T...|Test1|[0.0,0.0046295342...|\n",
      "|s3://yb-p8-data/T...|Test1|[0.59602916240692...|\n",
      "|s3://yb-p8-data/T...|Test1|[0.05935554206371...|\n",
      "|s3://yb-p8-data/T...|Test1|[0.16437396407127...|\n",
      "+--------------------+-----+--------------------+\n",
      "only showing top 20 rows"
     ]
    }
   ],
   "source": [
    "def array_to_vector_udf(arr):\n",
    "    return Vectors.dense(arr)\n",
    "\n",
    "array_to_vector_udf = udf(array_to_vector_udf, VectorUDT())\n",
    "\n",
    "features_df = features_df.withColumn(\"features\", array_to_vector_udf(features_df[\"features\"]))\n",
    "\n",
    "features_df.show()"
   ]
  },
  {
   "cell_type": "code",
   "execution_count": 23,
   "id": "892c55a8",
   "metadata": {},
   "outputs": [
    {
     "data": {
      "application/vnd.jupyter.widget-view+json": {
       "model_id": "",
       "version_major": 2,
       "version_minor": 0
      },
      "text/plain": [
       "FloatProgress(value=0.0, bar_style='info', description='Progress:', layout=Layout(height='25px', width='50%'),…"
      ]
     },
     "metadata": {},
     "output_type": "display_data"
    },
    {
     "name": "stdout",
     "output_type": "stream",
     "text": [
      "+--------------------+-----+--------------------+--------------------+\n",
      "|                path|label|            features|     scaled_features|\n",
      "+--------------------+-----+--------------------+--------------------+\n",
      "|s3://yb-p8-data/T...|Test1|[0.30633217096328...|[-0.2099825306422...|\n",
      "|s3://yb-p8-data/T...|Test1|[0.11058871448040...|[-0.5376031593024...|\n",
      "|s3://yb-p8-data/T...|Test1|[0.04312423616647...|[-0.6505201129242...|\n",
      "|s3://yb-p8-data/T...|Test1|[0.15797266364097...|[-0.4582954803060...|\n",
      "|s3://yb-p8-data/T...|Test1|[1.61209356784820...|[1.97550237605292...|\n",
      "|s3://yb-p8-data/T...|Test1|[9.49188135564327...|[-0.7211095262202...|\n",
      "|s3://yb-p8-data/T...|Test1|[0.51767390966415...|[0.14374532590746...|\n",
      "|s3://yb-p8-data/T...|Test1|[1.04676294326782...|[1.02929463070182...|\n",
      "|s3://yb-p8-data/T...|Test1|[0.0,0.3488664329...|[-0.7226982057055...|\n",
      "|s3://yb-p8-data/T...|Test1|[0.00816914532333...|[-0.7090253066235...|\n",
      "|s3://yb-p8-data/T...|Test1|[0.00734804105013...|[-0.7103996090039...|\n",
      "|s3://yb-p8-data/T...|Test1|[0.02039339020848...|[-0.6885652878513...|\n",
      "|s3://yb-p8-data/T...|Test1|[0.0,0.0046295342...|[-0.7226982057055...|\n",
      "|s3://yb-p8-data/T...|Test1|[0.15217918157577...|[-0.4679921734698...|\n",
      "|s3://yb-p8-data/T...|Test1|[0.16437396407127...|[-0.4475814666225...|\n",
      "|s3://yb-p8-data/T...|Test1|[1.30609989166259...|[1.46335324800916...|\n",
      "|s3://yb-p8-data/T...|Test1|[0.00805035419762...|[-0.7092241302470...|\n",
      "|s3://yb-p8-data/T...|Test1|[0.06711772829294...|[-0.6103616161066...|\n",
      "|s3://yb-p8-data/T...|Test1|[1.01955819129943...|[0.98376136944970...|\n",
      "|s3://yb-p8-data/T...|Test1|[0.02208343893289...|[-0.6857366118102...|\n",
      "+--------------------+-----+--------------------+--------------------+\n",
      "only showing top 20 rows"
     ]
    }
   ],
   "source": [
    "from pyspark.ml.feature import StandardScaler\n",
    "\n",
    "# Initialisation du StandardScaler\n",
    "scaler = StandardScaler(inputCol=\"features\", outputCol=\"scaled_features\", withStd=True, withMean=True)\n",
    "\n",
    "# Calcul des statistiques de standardisation et transformation des données\n",
    "scaler_model = scaler.fit(features_df)\n",
    "scaled_features_df = scaler_model.transform(features_df)\n",
    "\n",
    "# Affichage des données standardisées\n",
    "scaled_features_df.show()"
   ]
  },
  {
   "cell_type": "code",
   "execution_count": 24,
   "id": "e6ed88d2",
   "metadata": {},
   "outputs": [
    {
     "data": {
      "application/vnd.jupyter.widget-view+json": {
       "model_id": "",
       "version_major": 2,
       "version_minor": 0
      },
      "text/plain": [
       "FloatProgress(value=0.0, bar_style='info', description='Progress:', layout=Layout(height='25px', width='50%'),…"
      ]
     },
     "metadata": {},
     "output_type": "display_data"
    }
   ],
   "source": [
    "def find_optimal_components(df, max_components=20):\n",
    "    # Créer l'objet PCA et spécifier le nombre de composantes ainsi que les colonnes d'entrée et de sortie\n",
    "    pca_algo = PCA(k=max_components, inputCol=\"scaled_features\", outputCol=\"pca_features\")\n",
    "    \n",
    "    # Appliquer le PCA et obtenir le modèle\n",
    "    pca_model = pca_algo.fit(df)\n",
    "    \n",
    "    # Récupérer les variances expliquées par les composantes\n",
    "    explained_var = pca_model.explainedVariance\n",
    "    \n",
    "    # Créer un graphique pour montrer la variance cumulée expliquée\n",
    "    plt.figure(figsize=(15, 15))\n",
    "    plt.plot(np.arange(1, len(explained_var) + 1), np.cumsum(explained_var), marker='s', linestyle='--', color='blue')\n",
    "    plt.xlabel('Number of Components')\n",
    "    plt.ylabel('Cumulative Explained Variance')\n",
    "    plt.title('Variance Explained by PCA Components')\n",
    "    plt.grid(True)\n",
    "    plt.show()\n",
    "\n",
    "# Utilisation de la fonction\n",
    "find_optimal_components(scaled_features_df, max_components=80)"
   ]
  },
  {
   "cell_type": "code",
   "execution_count": 25,
   "id": "aa23981b",
   "metadata": {},
   "outputs": [
    {
     "data": {
      "application/vnd.jupyter.widget-view+json": {
       "model_id": "",
       "version_major": 2,
       "version_minor": 0
      },
      "text/plain": [
       "FloatProgress(value=0.0, bar_style='info', description='Progress:', layout=Layout(height='25px', width='50%'),…"
      ]
     },
     "metadata": {},
     "output_type": "display_data"
    },
    {
     "data": {
      "image/png": "[encoded data removed]",
      "text/plain": [
       "<IPython.core.display.Image object>"
      ]
     },
     "metadata": {},
     "output_type": "display_data"
    }
   ],
   "source": [
    "%matplot plt"
   ]
  },
  {
   "cell_type": "code",
   "execution_count": 26,
   "id": "06e730be",
   "metadata": {},
   "outputs": [
    {
     "data": {
      "application/vnd.jupyter.widget-view+json": {
       "model_id": "",
       "version_major": 2,
       "version_minor": 0
      },
      "text/plain": [
       "FloatProgress(value=0.0, bar_style='info', description='Progress:', layout=Layout(height='25px', width='50%'),…"
      ]
     },
     "metadata": {},
     "output_type": "display_data"
    },
    {
     "name": "stdout",
     "output_type": "stream",
     "text": [
      "La dimension du vecteur de caract?ristiques est : 1280"
     ]
    }
   ],
   "source": [
    "first_row = features_df.first()\n",
    "vector = first_row.features\n",
    "vector_dimension = len(vector)\n",
    "print(f\"La dimension du vecteur de caractéristiques est : {vector_dimension}\")"
   ]
  },
  {
   "cell_type": "code",
   "execution_count": 27,
   "id": "996cd7fd",
   "metadata": {},
   "outputs": [
    {
     "data": {
      "application/vnd.jupyter.widget-view+json": {
       "model_id": "",
       "version_major": 2,
       "version_minor": 0
      },
      "text/plain": [
       "FloatProgress(value=0.0, bar_style='info', description='Progress:', layout=Layout(height='25px', width='50%'),…"
      ]
     },
     "metadata": {},
     "output_type": "display_data"
    },
    {
     "name": "stdout",
     "output_type": "stream",
     "text": [
      "+-----+--------------------+\n",
      "|label|        pca_features|\n",
      "+-----+--------------------+\n",
      "|Test1|[9.35804603664778...|\n",
      "|Test1|[1.59249283899508...|\n",
      "|Test1|[7.58811890139996...|\n",
      "|Test1|[-2.7100818781887...|\n",
      "|Test1|[-0.2180708505006...|\n",
      "|Test1|[-2.9852424954690...|\n",
      "|Test1|[5.19871339824762...|\n",
      "|Test1|[1.98897058271275...|\n",
      "|Test1|[12.9457832019832...|\n",
      "|Test1|[-1.3187762953499...|\n",
      "|Test1|[5.16471859822202...|\n",
      "|Test1|[-4.8361540216391...|\n",
      "|Test1|[-0.7150806851860...|\n",
      "|Test1|[7.37981282107568...|\n",
      "|Test1|[-0.6054464007637...|\n",
      "|Test1|[8.96813362827972...|\n",
      "|Test1|[5.74022048486016...|\n",
      "|Test1|[14.1807168911578...|\n",
      "|Test1|[-2.2752588631410...|\n",
      "|Test1|[0.50624010268738...|\n",
      "+-----+--------------------+\n",
      "only showing top 20 rows"
     ]
    }
   ],
   "source": [
    "from pyspark.ml.feature import PCA\n",
    "components = 65\n",
    "pca = PCA(k=components, inputCol=\"features\", outputCol=\"pca_features\")\n",
    "pca_model = pca.fit(features_df)\n",
    "pca_result = pca_model.transform(features_df)\n",
    "pca_result.select(\"label\", \"pca_features\").show()"
   ]
  },
  {
   "cell_type": "code",
   "execution_count": 24,
   "id": "be161a14",
   "metadata": {},
   "outputs": [
    {
     "data": {
      "application/vnd.jupyter.widget-view+json": {
       "model_id": "",
       "version_major": 2,
       "version_minor": 0
      },
      "text/plain": [
       "FloatProgress(value=0.0, bar_style='info', description='Progress:', layout=Layout(height='25px', width='50%'),…"
      ]
     },
     "metadata": {},
     "output_type": "display_data"
    },
    {
     "name": "stderr",
     "output_type": "stream",
     "text": [
      "An error was encountered:\n",
      "'function' object has no attribute 'mode'\n",
      "Traceback (most recent call last):\n",
      "AttributeError: 'function' object has no attribute 'mode'\n",
      "\n"
     ]
    }
   ],
   "source": [
    "#pca_model.write.mode(\"overwrite\").parquet(PATH_Result)"
   ]
  },
  {
   "cell_type": "code",
   "execution_count": 28,
   "id": "7ac1a1f9",
   "metadata": {},
   "outputs": [
    {
     "data": {
      "application/vnd.jupyter.widget-view+json": {
       "model_id": "",
       "version_major": 2,
       "version_minor": 0
      },
      "text/plain": [
       "FloatProgress(value=0.0, bar_style='info', description='Progress:', layout=Layout(height='25px', width='50%'),…"
      ]
     },
     "metadata": {},
     "output_type": "display_data"
    }
   ],
   "source": [
    "(pca_result.select(\"pca_features\")).write.mode(\"overwrite\").parquet(PATH_PCA)\n"
   ]
  },
  {
   "cell_type": "code",
   "execution_count": 29,
   "id": "caabc59f",
   "metadata": {},
   "outputs": [
    {
     "data": {
      "application/vnd.jupyter.widget-view+json": {
       "model_id": "",
       "version_major": 2,
       "version_minor": 0
      },
      "text/plain": [
       "FloatProgress(value=0.0, bar_style='info', description='Progress:', layout=Layout(height='25px', width='50%'),…"
      ]
     },
     "metadata": {},
     "output_type": "display_data"
    }
   ],
   "source": [
    "features_df.write.mode(\"overwrite\").parquet(PATH_Result)\n"
   ]
  },
  {
   "cell_type": "markdown",
   "id": "782ac777",
   "metadata": {},
   "source": [
    "# chargement des données enregistrées "
   ]
  },
  {
   "cell_type": "code",
   "execution_count": 30,
   "id": "e0d6e044",
   "metadata": {},
   "outputs": [
    {
     "data": {
      "application/vnd.jupyter.widget-view+json": {
       "model_id": "",
       "version_major": 2,
       "version_minor": 0
      },
      "text/plain": [
       "FloatProgress(value=0.0, bar_style='info', description='Progress:', layout=Layout(height='25px', width='50%'),…"
      ]
     },
     "metadata": {},
     "output_type": "display_data"
    }
   ],
   "source": [
    "data1 = spark.read.parquet(PATH_Result)"
   ]
  },
  {
   "cell_type": "code",
   "execution_count": 31,
   "id": "672c900a",
   "metadata": {},
   "outputs": [
    {
     "data": {
      "application/vnd.jupyter.widget-view+json": {
       "model_id": "",
       "version_major": 2,
       "version_minor": 0
      },
      "text/plain": [
       "FloatProgress(value=0.0, bar_style='info', description='Progress:', layout=Layout(height='25px', width='50%'),…"
      ]
     },
     "metadata": {},
     "output_type": "display_data"
    }
   ],
   "source": [
    "data = data1.select(\"*\").toPandas()\n",
    "\n"
   ]
  },
  {
   "cell_type": "code",
   "execution_count": 32,
   "id": "1d9fe431",
   "metadata": {},
   "outputs": [
    {
     "data": {
      "application/vnd.jupyter.widget-view+json": {
       "model_id": "",
       "version_major": 2,
       "version_minor": 0
      },
      "text/plain": [
       "FloatProgress(value=0.0, bar_style='info', description='Progress:', layout=Layout(height='25px', width='50%'),…"
      ]
     },
     "metadata": {},
     "output_type": "display_data"
    },
    {
     "name": "stdout",
     "output_type": "stream",
     "text": [
      "                                  path  ...                                           features\n",
      "0    s3://yb-p8-data/Test1/170_100.jpg  ...  [0.059355542063713074, 0.2432597428560257, 0.0...\n",
      "1  s3://yb-p8-data/Test1/r_278_100.jpg  ...  [0.020393390208482742, 0.7335812449455261, 0.0...\n",
      "2   s3://yb-p8-data/Test1/r_90_100.jpg  ...  [0.0, 0.00462953420355916, 0.0, 0.0, 0.0, 0.38...\n",
      "3     s3://yb-p8-data/Test1/25_100.jpg  ...  [0.5960291624069214, 0.0, 0.09994358569383621,...\n",
      "4    s3://yb-p8-data/Test1/118_100.jpg  ...  [0.7433980107307434, 0.15267372131347656, 0.0,...\n",
      "\n",
      "[5 rows x 3 columns]"
     ]
    }
   ],
   "source": [
    "data.head()\n"
   ]
  },
  {
   "cell_type": "code",
   "execution_count": 33,
   "id": "2246d036",
   "metadata": {},
   "outputs": [
    {
     "data": {
      "application/vnd.jupyter.widget-view+json": {
       "model_id": "",
       "version_major": 2,
       "version_minor": 0
      },
      "text/plain": [
       "FloatProgress(value=0.0, bar_style='info', description='Progress:', layout=Layout(height='25px', width='50%'),…"
      ]
     },
     "metadata": {},
     "output_type": "display_data"
    },
    {
     "name": "stdout",
     "output_type": "stream",
     "text": [
      "(1280,)"
     ]
    }
   ],
   "source": [
    "data.loc[0,'features'].shape"
   ]
  },
  {
   "cell_type": "code",
   "execution_count": 34,
   "id": "1332c158",
   "metadata": {},
   "outputs": [
    {
     "data": {
      "application/vnd.jupyter.widget-view+json": {
       "model_id": "",
       "version_major": 2,
       "version_minor": 0
      },
      "text/plain": [
       "FloatProgress(value=0.0, bar_style='info', description='Progress:', layout=Layout(height='25px', width='50%'),…"
      ]
     },
     "metadata": {},
     "output_type": "display_data"
    },
    {
     "name": "stdout",
     "output_type": "stream",
     "text": [
      "[0.059355542063713074,0.2432597428560257,0.0,0.0,0.2857966125011444,0.1914971023797989,1.0538071393966675,0.0,0.6025503873825073,0.0,0.0,0.0,0.0,0.2911900281906128,0.0,0.40055227279663086,0.0,0.0761578306555748,1.1681829690933228,0.2632983326911926,0.0,0.012814618647098541,0.02027832716703415,0.021099334582686424,0.0,0.0,0.9581245183944702,0.0032239349093288183,0.0,0.16700293123722076,0.0,0.7556307911872864,0.01417289488017559,0.031246604397892952,0.0,0.0,0.4899962246417999,1.1854467391967773,0.008074633777141571,0.3687143921852112,0.3007047772407532,0.0,1.281463384628296,0.404150128364563,0.0,0.0,1.119857907295227,0.0,0.0,0.3839886784553528,0.0,0.2671988606452942,0.0010040925117209554,0.07555367797613144,0.0,1.3577677011489868,0.0,0.0,0.0,0.0,0.0,0.536874532699585,0.011468439362943172,0.06626535207033157,0.8671289682388306,0.0,0.3734789192676544,0.010684577748179436,0.0,1.465081810951233,8.831219020066783e-05,0.6676028370857239,0.17257468402385712,0.00875651091337204,0.03209634870290756,0.025075795128941536,1.2621349096298218,0.19942250847816467,0.0,0.0,0.19985714554786682,0.5053743124008179,0.0,0.6879628896713257,0.0718899667263031,0.003884986974298954,0.0,0.566495418548584,0.0006833854713477194,0.0,2.3397490978240967,0.433902770280838,0.0,0.14961004257202148,1.4444615840911865,0.0,0.1014251783490181,0.0,0.0,0.04508137330412865,0.97711580991745,2.5620453357696533,0.0,0.0,0.3342660367488861,0.0,0.03744686767458916,0.7944607734680176,0.009532266296446323,0.06394316256046295,0.0,0.237784281373024,0.0,0.2429458498954773,0.0,0.5087493062019348,0.810023844242096,0.012945165857672691,0.8556219339370728,0.005280251614749432,0.027866831049323082,0.01395421102643013,0.08121062070131302,0.05852492153644562,0.44691264629364014,0.13401442766189575,0.02290656603872776,0.9447263479232788,0.6060526967048645,0.0,0.0053564575500786304,0.8546807169914246,0.0,0.0,0.2919761538505554,0.0,0.0,1.0828639268875122,0.0,1.624677062034607,0.0,0.1137339323759079,0.08396168798208237,0.0,0.0,0.009842337109148502,0.6962745785713196,0.542149543762207,0.0,0.014430124312639236,1.8929040431976318,0.7711262702941895,0.0,0.0,0.09670515358448029,0.0,0.06926551461219788,0.0,0.0,0.0,0.5528110265731812,0.0,0.0,0.0,0.009842881932854652,0.01895642839372158,0.0,0.0,0.0,0.0,0.4017018675804138,3.23439359664917,0.5337338447570801,0.48564448952674866,0.0,1.269336223602295,0.02002285048365593,0.12383826822042465,0.01147154439240694,0.026419105008244514,0.07218591868877411,0.0,3.5571513175964355,0.0,2.6322543621063232,0.33676549792289734,0.6098608374595642,0.3656802773475647,0.0,0.0,0.0,0.13695654273033142,0.0,1.4474527835845947,0.0,0.01682548224925995,0.0,0.0,0.0,0.0,0.0329563282430172,2.126368284225464,0.09195893257856369,0.70240318775177,0.0,0.0,0.0,0.7313957214355469,0.017222335562109947,0.055946361273527145,0.0,0.0,0.15461000800132751,0.0,0.0,0.6580502390861511,0.0,0.024390114471316338,0.0403268076479435,0.0,0.0,0.04161485284566879,0.6514391899108887,0.8056761026382446,0.0,0.010354781523346901,0.08853757381439209,0.0,0.03737611323595047,0.11704079806804657,0.3927384614944458,8.648268703836948e-05,0.0,0.0,0.04415769875049591,0.11703403294086456,0.08077754825353622,0.0,0.0,0.18510578572750092,2.3279612064361572,0.0,0.0,0.05153573304414749,1.0080848932266235,0.0,0.07598794996738434,0.0,0.3700920343399048,0.0,0.0,0.0,0.7408033013343811,0.26128289103507996,0.0,1.5379016399383545,2.587892770767212,4.644123077392578,0.08787257969379425,1.4981387853622437,0.0,1.879469633102417,0.004778901115059853,0.18158215284347534,0.0,0.8060131669044495,0.0,0.0,0.03090604394674301,0.8159061074256897,0.11001461744308472,0.0,0.0,0.0,0.0,0.07097803801298141,0.0,3.1450564861297607,0.3770974576473236,0.16100023686885834,2.3903160095214844,0.28437477350234985,0.0,0.33049049973487854,0.551417350769043,0.01592877507209778,0.2608811855316162,0.0,0.0,0.0,0.33272212743759155,1.0324172973632812,0.0,0.24552318453788757,0.0,0.36434897780418396,0.3059278726577759,2.7302002906799316,0.5252130627632141,1.5076186656951904,0.0,0.012729917652904987,0.052847228944301605,0.041268717497587204,0.37554705142974854,0.08458510041236877,0.0,0.4279635548591614,0.0,0.14479495584964752,0.06776441633701324,0.3703421652317047,0.5407801866531372,2.3432867527008057,0.0,0.13332630693912506,0.017653347924351692,0.01715351641178131,0.0,0.0,0.0,0.017916446551680565,1.0928150415420532,0.173500195145607,0.04632142186164856,0.0,0.0,0.0,0.0,0.0,0.012910726480185986,0.01818138174712658,0.6204125285148621,0.0,0.368478000164032,0.010929652489721775,1.6579031944274902,0.013486823067069054,0.0,0.7835592031478882,0.0,0.0,0.0,0.12448105216026306,0.03189689293503761,0.6200517416000366,0.0,0.0,0.0,0.0,0.38926833868026733,0.0,0.0,0.0,0.0,0.010614988394081593,0.0,0.18865935504436493,1.9046039581298828,0.9526960253715515,0.7542791366577148,0.0818031057715416,0.020208178088068962,1.8069990873336792,0.06081175431609154,0.0,0.19040368497371674,0.0,0.2707897126674652,0.0,0.7054305076599121,0.0,0.6010205149650574,0.0,1.1722489595413208,0.22712887823581696,0.6679167747497559,1.7016243934631348,0.27898848056793213,0.0,0.007478276267647743,0.19329658150672913,0.0,0.0,0.0,0.37309032678604126,0.9619687795639038,0.5080963969230652,0.5448751449584961,0.010404158383607864,0.0,0.0,0.0,0.0,1.0250627994537354,0.23863589763641357,1.065604329109192,0.17446716129779816,0.011604425497353077,0.10818204283714294,1.9830220937728882,0.004952528048306704,0.10841458290815353,0.010896673426032066,0.0,0.21147891879081726,0.27383118867874146,0.0,0.12201147526502609,0.0,0.5675808787345886,1.1972973346710205,0.0,1.052233338356018,0.0006962503539398313,1.162455677986145,0.08027063310146332,0.04421943426132202,0.015794111415743828,0.24791526794433594,0.0,0.4272102117538452,0.3816719949245453,0.167523592710495,0.0,0.03502204641699791,0.007082608062773943,0.8767575621604919,0.5281758308410645,0.0,0.0,0.3860499858856201,0.0,0.14305907487869263,2.3591063022613525,0.0,1.3055124282836914,0.26938149333000183,0.007324880454689264,0.0,0.0,1.279845118522644,1.6222198009490967,0.5643919706344604,0.010344660840928555,0.5932309031486511,1.2760064601898193,0.0,0.039002254605293274,0.0,0.0,0.0,0.0,0.41872864961624146,0.026062313467264175,0.9344353079795837,0.12224400043487549,2.253467559814453,0.110513836145401,0.0052757360972464085,0.30376118421554565,0.6346259117126465,0.0,0.0,0.20652644336223602,0.0,0.09364254772663116,0.22289907932281494,0.11055073142051697,0.012439250946044922,0.0,0.771448016166687,0.0,0.7260053753852844,0.3809487223625183,0.0,0.2977714538574219,1.4050184488296509,0.0,3.434999465942383,1.2268251180648804,0.09679006040096283,1.3185776472091675,0.0182070042937994,0.39783912897109985,0.23269666731357574,1.0614763498306274,1.1719410419464111,0.0,1.6762140989303589,0.0,0.10704564303159714,0.0,0.06713308393955231,4.567263126373291,0.1277420073747635,0.38267987966537476,0.153367280960083,0.0,0.0,0.45624399185180664,0.9636545181274414,0.04162798076868057,0.1677560955286026,0.09094218909740448,0.0,0.4872538447380066,0.0,0.010972246527671814,0.0,0.09132757037878036,0.0,0.009129553101956844,1.6943882703781128,0.013577139936387539,0.06335529685020447,0.21309369802474976,0.21442635357379913,0.9858591556549072,0.0,0.1550208181142807,4.2898736000061035,0.0,0.5578036308288574,0.03892753645777702,0.34236714243888855,0.0,0.0,2.093597173690796,1.0808511972427368,0.0,0.8932493329048157,0.0,0.03607732430100441,0.0,0.47104597091674805,0.6349666714668274,0.0,0.0,0.0,1.1107144355773926,0.0,0.0,0.0,0.4982725977897644,0.0,1.3107572793960571,0.9580289721488953,0.9794197678565979,0.42300283908843994,0.22166703641414642,0.006696613505482674,0.004043063148856163,0.0,1.0599466562271118,0.0,0.01380370557308197,0.017959311604499817,2.136850118637085,3.458122968673706,1.0184340476989746,0.1060301661491394,0.0,0.30377018451690674,0.18729160726070404,0.021923279389739037,0.033884935081005096,0.037128038704395294,0.0,0.0,1.4041696786880493,0.46683505177497864,0.0,0.0,0.3147991895675659,0.027918105944991112,0.2838900089263916,0.5080388188362122,0.0,0.4310997426509857,0.38558557629585266,0.00215553748421371,0.035390038043260574,0.05729714035987854,0.0,0.07406944781541824,0.04736194759607315,0.0,0.39159345626831055,0.0010222123237326741,0.32778501510620117,0.5627479553222656,0.0006649543065577745,2.8543307781219482,2.610231399536133,0.07227237522602081,0.0,0.05482500419020653,0.013386677950620651,0.04402564465999603,0.21049755811691284,0.0,0.0,0.42551448941230774,0.0,0.0,0.014740019105374813,0.0,0.0,0.5767530202865601,0.09362785518169403,0.16243405640125275,0.003016598289832473,0.7827573418617249,0.0,0.13677679002285004,1.329715371131897,0.058323636651039124,0.0,0.007722669746726751,0.0,0.0,0.5501130223274231,0.012778418138623238,0.23538632690906525,0.0,0.3800370395183563,0.0,0.12206742912530899,0.5143011212348938,0.10818872600793839,0.2504640519618988,0.17983552813529968,0.0,0.0,0.0,0.19445209205150604,0.004503220785409212,0.17441360652446747,0.0829966589808464,0.11171497404575348,0.8703412413597107,1.2413088083267212,0.0,0.8265163898468018,0.01684407889842987,0.0,0.12205991894006729,0.0,0.0,0.06833668798208237,2.700934648513794,0.013627966865897179,0.0,0.013406889513134956,0.0,0.5131162405014038,0.4428752064704895,0.0,0.32019782066345215,0.0,0.0006174262962304056,0.6731365919113159,0.0,1.1559594869613647,0.0,0.0,0.0,0.3175332844257355,0.20051994919776917,0.0,0.08788017183542252,0.13155248761177063,0.0,1.5122543573379517,0.08824948966503143,0.06780415773391724,0.36663752794265747,0.12068518996238708,1.3299716711044312,0.0,0.22420737147331238,0.36376410722732544,0.003061615629121661,0.5842637419700623,3.0553267002105713,0.012326152995228767,0.051956966519355774,0.0,1.4318548440933228,0.46664318442344666,0.0,0.0,0.0,0.0,0.49013751745224,0.0,0.20235247910022736,0.0,0.1480078548192978,0.1238582581281662,0.3508957028388977,0.0,0.01917557790875435,0.0,0.14297129213809967,0.660975456237793,0.0,0.0,0.0,0.0,0.0,0.0,0.0,0.646672785282135,0.005557887256145477,0.0,1.2745074033737183,0.2289482057094574,0.015115903690457344,0.0,0.19150087237358093,0.9351534247398376,0.0,0.013886733911931515,1.8120778799057007,0.1922203004360199,0.0,0.004662173334509134,0.0,0.0,0.009833491407334805,1.4564869403839111,0.0030563510954380035,0.3247186839580536,0.1618860363960266,0.3436696231365204,0.0,0.37214091420173645,0.2342502474784851,0.0,0.09981653839349747,0.0,0.0,0.823991596698761,0.0,0.0,0.3493953347206116,0.058984775096178055,0.0,0.0,0.0,0.0,1.2343246936798096,1.2115341424942017,0.0,0.3354511559009552,0.4554632008075714,2.491145610809326,0.07423019409179688,0.0,0.003949369769543409,0.0,0.0,0.0,0.16480699181556702,0.4739067554473877,0.0,0.32347702980041504,0.0,0.6580495834350586,1.3958282470703125,0.10534665733575821,1.3191728591918945,0.1347281038761139,0.0,0.7970029711723328,0.10544992983341217,0.0,0.022612979635596275,2.3810007572174072,0.5190842151641846,1.094099998474121,0.0,0.07837434858083725,0.09909632056951523,0.03549181669950485,0.5926510691642761,0.1374685913324356,0.0,0.0,1.5560022592544556,0.7365230917930603,2.852797746658325,0.0,0.0,0.0,0.07031355798244476,0.0,0.0,0.14146354794502258,0.2533181309700012,1.0764379501342773,0.0,2.362832546234131,0.0,0.43104684352874756,0.0,0.14292959868907928,0.0,0.0,0.21141117811203003,1.7762622833251953,0.2779240310192108,0.0,0.0,0.0,0.03347057104110718,0.0,0.11871246248483658,0.025124073028564453,0.0,0.018385419622063637,1.3237899541854858,0.6178693771362305,0.7548851370811462,0.0,0.44272565841674805,0.0,1.5930309295654297,0.0,1.1627341508865356,0.9967196583747864,0.0,0.10542301088571548,0.0,0.5455015897750854,0.5193434357643127,1.2855584621429443,0.0,0.038166046142578125,0.0,0.0,0.0,0.0,1.802056908607483,0.0,1.9807320833206177,0.0,0.0,0.04337293282151222,0.04265470802783966,0.1605900079011917,1.159476399421692,0.0,0.0,0.7373504042625427,0.03358044847846031,0.0,0.0,0.30811893939971924,0.04734169691801071,0.0,0.3784514367580414,0.012761739082634449,0.0,0.0,0.0,1.207981824874878,2.9217262268066406,0.0,0.44832339882850647,0.7763240337371826,1.6566535234451294,0.10198666155338287,0.01921899989247322,0.0,0.8852291703224182,0.0,0.002770598977804184,0.0,0.42036858201026917,0.0,0.0,0.0,0.848076343536377,2.969773530960083,0.0,1.0880638360977173,0.0,0.26810333132743835,0.0,0.08655498176813126,0.2996983826160431,0.3907652795314789,0.0848962739109993,0.6915784478187561,0.8233004212379456,0.08249025791883469,0.34029683470726013,0.5954428911209106,0.0,0.0,0.0,0.00839327834546566,0.20572349429130554,0.0,0.15451115369796753,0.0,1.1939702033996582,0.26775240898132324,0.0,0.41338154673576355,0.018258357420563698,0.16573823988437653,0.0,0.0,0.0,0.0,0.0,0.0,0.020499803125858307,0.356434166431427,0.0,0.1588386595249176,0.0,0.0,0.21063372492790222,1.946486234664917,0.0,0.0,0.010764073580503464,0.934199869632721,0.0,0.0,0.697998046875,0.3818803131580353,0.05604562163352966,0.0,0.046530187129974365,0.0,1.0182029008865356,0.052180174738168716,0.1404803991317749,0.15283477306365967,0.5284679532051086,0.8835069537162781,0.0,0.0,0.0,0.07427754998207092,1.6720805168151855,0.5017046928405762,0.14647959172725677,0.0,0.6652595400810242,0.0,0.0,0.26679736375808716,0.0,0.0,0.06252996623516083,0.0,0.0,0.2939419746398926,0.016558170318603516,0.0,0.4795418083667755,0.008823355659842491,0.0,0.5721796154975891,2.5639231204986572,0.0,1.7376054525375366,0.2621329128742218,0.11651019006967545,1.2294636964797974,0.0,0.0,0.651983916759491,0.0,0.0,0.5042465329170227,0.6761701107025146,0.45166704058647156,0.0,0.0,0.0,0.0,0.978520393371582,0.0,0.0,0.0,0.4030780494213104,1.7195944786071777,0.003632613690569997,0.0,0.02721133455634117,0.04220572113990784,0.056509632617235184,0.0,0.0,1.2278757095336914,0.0,0.09724929183721542,0.8897144794464111,0.171579509973526,0.017362477257847786,0.0,0.0697253867983818,0.06456400454044342,0.0,1.3281950950622559,0.0,0.0,0.5680022835731506,1.5117558240890503,0.1320353001356125,0.012999631464481354,0.0,3.461972951889038,1.8433003425598145,0.0,0.0,0.0,0.0,1.0510953664779663,0.12020512670278549,0.08278460055589676,0.0,0.0,0.0,0.2993747591972351,0.0,0.07467924803495407,0.0810314416885376,0.0,0.05135096237063408,0.0,0.4965458810329437,0.0,0.0,0.0,0.0,2.166372776031494,1.820604920387268,0.2178782820701599,0.1616365611553192,0.0,0.0047715636901557446,0.036333054304122925,0.0,0.9769251346588135,2.516521453857422,0.8699676990509033,0.07106330245733261,0.0,0.4424268901348114,0.0,0.0,0.030595673248171806,0.0,0.0,0.0,0.5193681120872498,0.18698444962501526,1.9347752332687378,0.5421404242515564,0.0,0.4139525294303894,0.05241665616631508,0.0,0.3116146922111511,0.0,0.8562248945236206,0.008967740461230278,0.010285299271345139,0.0,0.19801673293113708,0.0,0.020554950460791588,0.14940883219242096,0.0,0.03901106119155884,0.013025439344346523,0.0539904423058033,0.0,3.1408097743988037,0.20377396047115326,0.5561664700508118,0.29997918009757996,0.2382691502571106,0.15647712349891663,0.24587833881378174,0.4438719153404236,0.0,0.0,1.7749139070510864,0.8627671003341675,1.337304711341858,0.2905864119529724,0.001331163919530809,0.0,0.0,0.018242700025439262,0.33555904030799866,0.0,0.0,0.0,0.0,1.4405471086502075,0.001979915425181389,1.1157786846160889,0.0,1.3771388530731201,0.056358445435762405,0.0,0.0,0.0,0.056555554270744324,0.0,0.0,0.007902048528194427,0.0,0.7317624688148499,0.0,0.0,0.4576784670352936,0.11952550709247589,0.38248318433761597,0.018878517672419548,0.2367730438709259,0.0,0.19178548455238342,0.20126980543136597,0.32763737440109253,0.0,0.9478523135185242,0.490960031747818,0.0,0.0,0.0,0.42950549721717834,0.38100647926330566,1.8817031383514404,0.40664711594581604,0.0,0.1450899988412857,0.06496422737836838,0.31650659441947937,0.9341647028923035,0.4790506064891815,0.10836149007081985,0.0,0.0,0.04948792979121208,0.0,0.008016732521355152,0.11525726318359375,0.014972122386097908,2.3053808212280273,0.09390081465244293,0.04397086799144745,0.009085703641176224,0.0,0.0,0.0,0.0,0.2962697446346283,0.1667657196521759,0.8965780138969421,0.34951677918434143,2.9819672107696533,0.0,0.0,0.013052755035459995,0.054412879049777985,0.06421394646167755,0.04730677977204323,0.0,0.0,0.0,0.3487966060638428,0.0,0.9818499684333801,0.0,0.03221648186445236,0.12348826974630356,0.11635802686214447,1.6401728391647339,0.004920803941786289,0.0,0.0,0.9229130148887634,0.03643280267715454,0.0,0.007838677614927292,0.033378396183252335,2.0019447803497314,0.023553654551506042,0.3238455355167389,0.3793419897556305,0.09255620092153549,0.0,0.9920747876167297,0.044335704296827316,0.0,0.0,0.22076812386512756,0.0,0.2558766305446625,1.2739379405975342,0.0021720905788242817,0.0,0.7515240907669067,0.02554711513221264,0.0,0.0,0.3654686212539673,0.0,0.00976354256272316,0.5636666417121887,0.03929832950234413,4.02999210357666,0.27393752336502075,0.3264445662498474,1.9552985429763794,0.0,3.1565065383911133,0.2649780213832855,1.1516326665878296,0.041713424026966095,0.0,0.09624969959259033,0.8744122385978699,0.027876192703843117,0.005723077338188887,0.0,0.0,0.10207618027925491,0.0,0.0,0.005222748965024948,0.0,0.003160009626299143,0.35403648018836975,1.1507843732833862,0.1628222018480301,0.0,0.001837496878579259,0.0,3.788707733154297,0.0,0.4226531982421875,0.0057637449353933334,0.06718198955059052,0.00046974298311397433,0.047446250915527344,0.15883362293243408,0.031459517776966095,1.328128457069397,0.30530330538749695,0.0,0.9199564456939697,1.0169713497161865,0.28683316707611084,0.06765146553516388,0.010224663652479649,0.06524855643510818,0.9960159063339233,0.8115668892860413,0.0,0.13787202537059784,0.057503290474414825,0.2602683901786804,0.016281887888908386,0.06564903259277344,0.5248962044715881,0.02775527909398079,0.2836335599422455]"
     ]
    }
   ],
   "source": [
    "print(data.loc[0,'features'])\n"
   ]
  },
  {
   "cell_type": "code",
   "execution_count": null,
   "id": "a4cbb903",
   "metadata": {},
   "outputs": [],
   "source": []
  }
 ],
 "metadata": {
  "kernelspec": {
   "display_name": "PySpark",
   "language": "python",
   "name": "pysparkkernel"
  },
  "language_info": {
   "codemirror_mode": {
    "name": "python",
    "version": 3
   },
   "file_extension": ".py",
   "mimetype": "text/x-python",
   "name": "pyspark",
   "pygments_lexer": "python3"
  }
 },
 "nbformat": 4,
 "nbformat_minor": 5
}
